{
 "cells": [
  {
   "cell_type": "markdown",
   "metadata": {},
   "source": [
    "# Problem Set 6"
   ]
  },
  {
   "cell_type": "code",
   "execution_count": 13,
   "metadata": {},
   "outputs": [],
   "source": [
    "from sympy import *\n",
    "import matplotlib.pyplot as plt\n",
    "import numpy as np\n",
    "from IPython.display import display\n",
    "init_printing()\n",
    "%matplotlib inline"
   ]
  },
  {
   "cell_type": "markdown",
   "metadata": {},
   "source": [
    "### Problem 2"
   ]
  },
  {
   "cell_type": "code",
   "execution_count": 52,
   "metadata": {},
   "outputs": [
    {
     "name": "stdout",
     "output_type": "stream",
     "text": [
      "I_parallel is equal to:  1.67699189956042e-46 kgm^2\n",
      "I_perpendicular is equal to:  9.48640317122342e-46 kgm^2\n"
     ]
    }
   ],
   "source": [
    "mA = 3*1.67e-27\n",
    "mB = 1.99e-26\n",
    "mC = 5.81e-26\n",
    "m = mA + mB + mC\n",
    "R = 1.11e-10\n",
    "Rprime = 1.78e-10\n",
    "rad = 1.937315\n",
    "\n",
    "I_parallel = 2*mA*(1-(cos(rad)))*R**2\n",
    "print('I_parallel is equal to: ', I_parallel, 'kgm^2')\n",
    "\n",
    "I_perpendicular = mA*(1-cos(rad))*R**2 + (mA/m) * (mB+mC) * (1+2*cos(rad))*R**2 + (mC/m) * ( ((3*mA) + mB)*Rprime + 6*mA*R*((1/3)*(sqrt(1+2*cos(rad)))) )*Rprime\n",
    "print('I_perpendicular is equal to: ', I_perpendicular, 'kgm^2')"
   ]
  },
  {
   "cell_type": "code",
   "execution_count": 53,
   "metadata": {},
   "outputs": [
    {
     "name": "stdout",
     "output_type": "stream",
     "text": [
      "The rotational constants as wavenumbers are:  16.4745415356318/pi**2 cm^-1 and  2.91234435281368/pi**2 cm^-1\n"
     ]
    }
   ],
   "source": [
    "h = 6.626e-34\n",
    "hbar = h/(2*pi)\n",
    "c = 2.9979e8\n",
    "\n",
    "# Solve for rotational constants\n",
    "A = (hbar/(4*pi*c*I_parallel)) / 100\n",
    "B = (hbar/(4*pi*c*I_perpendicular)) / 100\n",
    "\n",
    "\n",
    "print('The rotational constants as wavenumbers are: ', A, 'cm^-1 and ', B, 'cm^-1')"
   ]
  },
  {
   "cell_type": "markdown",
   "metadata": {},
   "source": [
    "### Problem 7"
   ]
  },
  {
   "cell_type": "code",
   "execution_count": 56,
   "metadata": {},
   "outputs": [
    {
     "data": {
      "image/png": "[encoded data removed]",
      "text/latex": [
       "$$\\left [ \\frac{0.5}{\\nu_{tilde}} \\left(4.0 De - \\nu_{tilde}\\right)\\right ]$$"
      ],
      "text/plain": [
       "⎡0.5⋅(4.0⋅De - ν_tilde)⎤\n",
       "⎢──────────────────────⎥\n",
       "⎣       ν_tilde        ⎦"
      ]
     },
     "execution_count": 56,
     "metadata": {},
     "output_type": "execute_result"
    }
   ],
   "source": [
    "v = Symbol('v')\n",
    "nu_tilde = Symbol('nu_tilde')\n",
    "De = Symbol('De')\n",
    "G = (v+0.5)*nu_tilde - (v+0.5)**2 * nu_tilde**2/(4*De) - De\n",
    "\n",
    "solve(G,v)"
   ]
  },
  {
   "cell_type": "code",
   "execution_count": null,
   "metadata": {},
   "outputs": [],
   "source": []
  }
 ],
 "metadata": {
  "kernelspec": {
   "display_name": "Python 3",
   "language": "python",
   "name": "python3"
  },
  "language_info": {
   "codemirror_mode": {
    "name": "ipython",
    "version": 3
   },
   "file_extension": ".py",
   "mimetype": "text/x-python",
   "name": "python",
   "nbconvert_exporter": "python",
   "pygments_lexer": "ipython3",
   "version": "3.6.4"
  }
 },
 "nbformat": 4,
 "nbformat_minor": 2
}
