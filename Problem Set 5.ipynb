{
 "cells": [
  {
   "cell_type": "markdown",
   "metadata": {},
   "source": [
    "# Problem Set 5"
   ]
  },
  {
   "cell_type": "markdown",
   "metadata": {},
   "source": [
    "### Problem 3"
   ]
  },
  {
   "cell_type": "code",
   "execution_count": 1,
   "metadata": {},
   "outputs": [],
   "source": [
    "from sympy import *\n",
    "import matplotlib.pyplot as plt\n",
    "import numpy as np\n",
    "from IPython.display import display\n",
    "init_printing()\n",
    "%matplotlib inline"
   ]
  },
  {
   "cell_type": "code",
   "execution_count": 2,
   "metadata": {},
   "outputs": [
    {
     "name": "stdout",
     "output_type": "stream",
     "text": [
      "The eigenvalues are: [-2. -1. -1.  1.  1.  2.]\n",
      "The eigenvectors or expansion coefficients for: -1.9999999999999993 \n",
      " [[ 0.40824829]\n",
      " [-0.40824829]\n",
      " [ 0.40824829]\n",
      " [-0.40824829]\n",
      " [ 0.40824829]\n",
      " [-0.40824829]]\n",
      "The eigenvectors or expansion coefficients for: -1.0 \n",
      " [[-6.72121529e-18]\n",
      " [-5.00000000e-01]\n",
      " [ 5.00000000e-01]\n",
      " [-1.09414667e-18]\n",
      " [-5.00000000e-01]\n",
      " [ 5.00000000e-01]]\n",
      "The eigenvectors or expansion coefficients for: -0.9999999999999993 \n",
      " [[ 0.57735027]\n",
      " [-0.28867513]\n",
      " [-0.28867513]\n",
      " [ 0.57735027]\n",
      " [-0.28867513]\n",
      " [-0.28867513]]\n",
      "The eigenvectors or expansion coefficients for: 0.9999999999999984 \n",
      " [[ 0.04517255]\n",
      " [-0.47588096]\n",
      " [-0.52105351]\n",
      " [-0.04517255]\n",
      " [ 0.47588096]\n",
      " [ 0.52105351]]\n",
      "The eigenvectors or expansion coefficients for: 1.0000000000000004 \n",
      " [[-0.57558038]\n",
      " [-0.32691077]\n",
      " [ 0.24866961]\n",
      " [ 0.57558038]\n",
      " [ 0.32691077]\n",
      " [-0.24866961]]\n",
      "The eigenvectors or expansion coefficients for: 1.9999999999999998 \n",
      " [[-0.40824829]\n",
      " [-0.40824829]\n",
      " [-0.40824829]\n",
      " [-0.40824829]\n",
      " [-0.40824829]\n",
      " [-0.40824829]]\n"
     ]
    }
   ],
   "source": [
    "huckel = np.matrix([\n",
    "    \n",
    "    [0,1,0,0,0,1],\n",
    "    [1,0,1,0,0,0],\n",
    "    [0,1,0,1,0,0],\n",
    "    [0,0,1,0,1,0],\n",
    "    [0,0,0,1,0,1],\n",
    "    [1,0,0,0,1,0],\n",
    "    \n",
    "])\n",
    "\n",
    "w,v = np.linalg.eigh(huckel)\n",
    "print('The eigenvalues are:', w)\n",
    "\n",
    "for i in range(0,len(v)):\n",
    "    print ('The eigenvectors or expansion coefficients for:', w[i],'\\n', v[:,i])\n"
   ]
  },
  {
   "cell_type": "markdown",
   "metadata": {},
   "source": [
    "### Problem 4"
   ]
  },
  {
   "cell_type": "code",
   "execution_count": 30,
   "metadata": {},
   "outputs": [
    {
     "name": "stdout",
     "output_type": "stream",
     "text": [
      "The eigenvalues are: [-2.09529399 -1.86921398 -1.5792181  -0.73764031 -0.40039232  0.47726\n",
      "  0.88697524  1.35567429  1.65157231  2.31027685]\n",
      "The eigenvectors or expansion coefficients for: -2.0952939852239143 \n",
      " [[ 4.47686426e-17]\n",
      " [-1.60119398e-01]\n",
      " [ 3.35497212e-01]\n",
      " [-5.42845893e-01]\n",
      " [ 5.42845893e-01]\n",
      " [-3.35497212e-01]\n",
      " [ 1.60119398e-01]\n",
      " [ 2.59078629e-01]\n",
      " [-2.77555756e-16]\n",
      " [-2.59078629e-01]]\n",
      "The eigenvectors or expansion coefficients for: -1.869213978147917 \n",
      " [[-0.43280507]\n",
      " [ 0.40450264]\n",
      " [-0.32329692]\n",
      " [ 0.19980849]\n",
      " [ 0.19980849]\n",
      " [-0.32329692]\n",
      " [ 0.40450264]\n",
      " [-0.24999638]\n",
      " [ 0.26748824]\n",
      " [-0.24999638]]\n",
      "The eigenvectors or expansion coefficients for: -1.5792180991345164 \n",
      " [[ 0.34157486]\n",
      " [-0.2697106 ]\n",
      " [ 0.084357  ]\n",
      " [ 0.13649249]\n",
      " [ 0.13649249]\n",
      " [ 0.084357  ]\n",
      " [-0.2697106 ]\n",
      " [-0.43640091]\n",
      " [ 0.55267973]\n",
      " [-0.43640091]]\n",
      "The eigenvectors or expansion coefficients for: -0.737640305228187 \n",
      " [[ 5.46799664e-17]\n",
      " [-4.84057274e-01]\n",
      " [ 3.57060155e-01]\n",
      " [ 2.20675312e-01]\n",
      " [-2.20675312e-01]\n",
      " [-3.57060155e-01]\n",
      " [ 4.84057274e-01]\n",
      " [-2.99163848e-01]\n",
      " [ 0.00000000e+00]\n",
      " [ 2.99163848e-01]]\n",
      "The eigenvectors or expansion coefficients for: -0.4003923229389492 \n",
      " [[-0.51088717]\n",
      " [ 0.10227765]\n",
      " [ 0.46993599]\n",
      " [-0.29043641]\n",
      " [-0.29043641]\n",
      " [ 0.46993599]\n",
      " [ 0.10227765]\n",
      " [-0.06321106]\n",
      " [ 0.31574564]\n",
      " [-0.06321106]]\n",
      "The eigenvectors or expansion coefficients for: 0.4772599964740192 \n",
      " [[-2.10579895e-17]\n",
      " [ 3.35497212e-01]\n",
      " [ 1.60119398e-01]\n",
      " [-2.59078629e-01]\n",
      " [ 2.59078629e-01]\n",
      " [-1.60119398e-01]\n",
      " [-3.35497212e-01]\n",
      " [-5.42845893e-01]\n",
      " [-8.32667268e-17]\n",
      " [ 5.42845893e-01]]\n",
      "The eigenvectors or expansion coefficients for: 0.8869752421527175 \n",
      " [[-0.36027741]\n",
      " [-0.15977857]\n",
      " [ 0.21855778]\n",
      " [ 0.35363391]\n",
      " [ 0.35363391]\n",
      " [ 0.21855778]\n",
      " [-0.15977857]\n",
      " [-0.25852716]\n",
      " [-0.5829411 ]\n",
      " [-0.25852716]]\n",
      "The eigenvectors or expansion coefficients for: 1.355674293978083 \n",
      " [[ 1.66032523e-17]\n",
      " [-3.57060155e-01]\n",
      " [-4.84057274e-01]\n",
      " [-2.99163848e-01]\n",
      " [ 2.99163848e-01]\n",
      " [ 4.84057274e-01]\n",
      " [ 3.57060155e-01]\n",
      " [-2.20675312e-01]\n",
      " [-1.11022302e-16]\n",
      " [ 2.20675312e-01]]\n",
      "The eigenvectors or expansion coefficients for: 1.6515723123369714 \n",
      " [[ 0.52467216]\n",
      " [ 0.433267  ]\n",
      " [ 0.19089963]\n",
      " [-0.11798246]\n",
      " [-0.11798246]\n",
      " [ 0.19089963]\n",
      " [ 0.433267  ]\n",
      " [-0.26777373]\n",
      " [-0.32426522]\n",
      " [-0.26777373]]\n",
      "The eigenvectors or expansion coefficients for: 2.310276845731693 \n",
      " [[-0.172974  ]\n",
      " [-0.19980891]\n",
      " [-0.28863991]\n",
      " [-0.46702918]\n",
      " [-0.46702918]\n",
      " [-0.28863991]\n",
      " [-0.19980891]\n",
      " [-0.32329761]\n",
      " [-0.27987781]\n",
      " [-0.32329761]]\n"
     ]
    }
   ],
   "source": [
    "huckel_2 = np.matrix([\n",
    "    \n",
    "    [0,1,0,0,0,0,1,0,0,0],\n",
    "    [1,0,1,0,0,0,0,0,0,0],\n",
    "    [0,1,0,1,0,0,0,0,0,0],\n",
    "    [0,0,1,0,1,0,0,1,0,0],\n",
    "    [0,0,0,1,0,1,0,0,0,1],\n",
    "    [0,0,0,0,1,0,1,0,0,0],\n",
    "    [1,0,0,0,0,1,0,0,0,0],\n",
    "    [0,0,0,1,0,0,0,0,1,0],\n",
    "    [0,0,0,0,0,0,0,1,0,1],\n",
    "    [0,0,0,0,1,0,0,0,1,0],\n",
    "    \n",
    "])\n",
    "\n",
    "w2,v2 = np.linalg.eigh(huckel_2)\n",
    "print('The eigenvalues are:', w2)\n",
    "\n",
    "for i in range(0,len(v2)):\n",
    "    print ('The eigenvectors or expansion coefficients for:', w2[i],'\\n', v2[:,i])\n"
   ]
  },
  {
   "cell_type": "markdown",
   "metadata": {},
   "source": [
    "### Problem 5"
   ]
  },
  {
   "cell_type": "code",
   "execution_count": 85,
   "metadata": {},
   "outputs": [],
   "source": [
    "R=Symbol('R')\n",
    "a0=0.529 # Angstroms"
   ]
  },
  {
   "cell_type": "code",
   "execution_count": 86,
   "metadata": {},
   "outputs": [
    {
     "data": {
      "image/png": "[encoded data removed]",
      "text/latex": [
       "$$0.945179584120983 R \\left(1.19115259498549 R^{2} + 1.89035916824197 R + 1\\right) e^{- 1.89035916824197 R}$$"
      ],
      "text/plain": [
       "                    ⎛                  2                         ⎞  -1.8903591\n",
       "0.945179584120983⋅R⋅⎝1.19115259498549⋅R  + 1.89035916824197⋅R + 1⎠⋅ℯ          \n",
       "\n",
       "6824197⋅R\n",
       "         "
      ]
     },
     "execution_count": 86,
     "metadata": {},
     "output_type": "execute_result"
    }
   ],
   "source": [
    "S = 0.5 * (R/a0) * ( 1 + (R/a0) + (1/3) * (R/a0)**2 ) * E**-(R/a0)\n",
    "S"
   ]
  },
  {
   "cell_type": "code",
   "execution_count": 88,
   "metadata": {},
   "outputs": [
    {
     "data": {
      "image/png": "[encoded data removed]",
      "text/latex": [
       "$$\\left [ 1.1129120000471, \\quad -0.55645600002355 - 0.299009765537221 i, \\quad -0.55645600002355 + 0.299009765537221 i\\right ]$$"
      ],
      "text/plain": [
       "[1.1129120000471, -0.55645600002355 - 0.299009765537221⋅ⅈ, -0.55645600002355 +\n",
       " 0.299009765537221⋅ⅈ]"
      ]
     },
     "execution_count": 88,
     "metadata": {},
     "output_type": "execute_result"
    }
   ],
   "source": [
    "derivative = diff(S,R)\n",
    "solve(derivative,R)\n",
    "\n",
    "# The maximum is given by the first value: 1.1129"
   ]
  },
  {
   "cell_type": "code",
   "execution_count": 89,
   "metadata": {},
   "outputs": [
    {
     "data": {
      "image/png": "[encoded data removed]",
      "text/plain": [
       "<matplotlib.figure.Figure at 0x11e18bf60>"
      ]
     },
     "metadata": {},
     "output_type": "display_data"
    }
   ],
   "source": [
    "p = plot(S,(R,0,10))"
   ]
  },
  {
   "cell_type": "code",
   "execution_count": null,
   "metadata": {},
   "outputs": [],
   "source": []
  }
 ],
 "metadata": {
  "kernelspec": {
   "display_name": "Python 3",
   "language": "python",
   "name": "python3"
  },
  "language_info": {
   "codemirror_mode": {
    "name": "ipython",
    "version": 3
   },
   "file_extension": ".py",
   "mimetype": "text/x-python",
   "name": "python",
   "nbconvert_exporter": "python",
   "pygments_lexer": "ipython3",
   "version": "3.6.4"
  }
 },
 "nbformat": 4,
 "nbformat_minor": 2
}
