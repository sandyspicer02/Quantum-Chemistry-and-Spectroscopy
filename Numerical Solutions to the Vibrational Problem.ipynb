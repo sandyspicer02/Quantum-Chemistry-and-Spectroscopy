{
 "cells": [
  {
   "cell_type": "markdown",
   "metadata": {},
   "source": [
    "# Numerical Solution of Vibrational Problems Using a Discrete Variable Representation\n",
    "\n",
    "Previously in the semester we introduced the variational principle as a method of numerically solving the Schrodinger equation.  This method depended on having a good trial wavefunction to optimize.  It isn't always easy to develop good trial wavefunctions for a potential that you haven't encountered before.  Beyond that, the method depended on being able to represent the potential energy as a continuous function.  The Discrete Variable Representation (DVR) method overcomes both of these problems.\n",
    "\n",
    "In particular, today we will be working with the sinc DVR.  A sinc DVR chooses a basis that consists of a set of evenly spaced delta functions.  This results in a Hamiltonian matrix with a diagonal potential term, but a non-diagonal kinetic energy term.\n",
    "\n",
    "Because the basis functions are just delta functions, it is very easy to add in additional basis functions, and hence increase the accuracy of the calculation.  It also makes the approach very general and easy to apply to any 1 dimensional problem.\n",
    "\n",
    "Today we will explore the sinc DVR for the simple harmonic oscillator (SHO), the Morse Potential, and a double well.\n",
    "\n",
    "## SHO\n",
    "Execute the next several cells to load them into your kernel."
   ]
  },
  {
   "cell_type": "code",
   "execution_count": 1,
   "metadata": {},
   "outputs": [],
   "source": [
    "# import modules\n",
    "import numpy as np\n",
    "import pandas as pd # if import fails, uncomment next line and run again\n",
    "#!pip install pandas\n",
    "from sympy import *\n",
    "import matplotlib.pyplot as plt\n",
    "init_printing()"
   ]
  },
  {
   "cell_type": "code",
   "execution_count": 2,
   "metadata": {},
   "outputs": [],
   "source": [
    "# define constants\n",
    "hbar = 6.626e-34/(2*np.pi) * 1/ 1.6605e-27 * (1e10)**2 * 1/1e12 # hbar in units of amu ang^2/ps\n",
    "c = 2.998e-2 # speed of light in cm/ps\n",
    "conv=2*np.pi*c*hbar # conversion to and from simulation units to cm^-1"
   ]
  },
  {
   "cell_type": "code",
   "execution_count": 3,
   "metadata": {},
   "outputs": [],
   "source": [
    "def return_KE(num,dx):\n",
    "    \"\"\"Returns the kinetic energy matrix for a num DVR grid \n",
    "    where grid points are separated by dx\n",
    "    see http://www.pci.uni-heidelberg.de/tc/usr/mctdh/lit/NumericalMethods.pdf \n",
    "    page 29 for more details\"\"\"\n",
    "    \n",
    "    KE=np.zeros((num,num))\n",
    "    for i in range(num):\n",
    "        for j in range(i):\n",
    "            KE[i,j]= hbar**2/dx**2 * (-1)**(i-j)/(i-j)**2\n",
    "            KE[j,i]=KE[i,j]\n",
    "        KE[i,i]=hbar**2*np.pi**2/(6*dx**2)\n",
    "    return KE/conv# conversion from simulation units to cm^-1\n",
    "def return_H(xmin,xmax,pes,num=21,pconv=1,mass=1):\n",
    "    \"\"\"Returns the H matrix for a given pes.  pes is a sympy function of the variable x\n",
    "    num is the number of DVR points.  Default of 21.\n",
    "    pconv is an optional conversion of the pes.  Default of 1.\n",
    "    mass is the reduced mass.  Default of 1.\"\"\"\n",
    "    nppes=lambdify(x,pes)\n",
    "    xvals,dx=np.linspace(xmin,xmax,num=num,retstep=True)\n",
    "    xpes=[]\n",
    "    for val in xvals:\n",
    "        xpes.append(nppes(val))\n",
    "    KE=return_KE(num,dx)\n",
    "    H=np.copy(KE)/mass\n",
    "    for i in range(num):\n",
    "        H[i,i]=H[i,i]+xpes[i]*pconv\n",
    "    H = H\n",
    "    return H,xvals"
   ]
  },
  {
   "cell_type": "markdown",
   "metadata": {},
   "source": [
    "To start out, let's find the solutions to the simple harmonic oscillator to make sure that our code is working correctly.  In the next cell, I am defining the potential energy as $V(x) = 0.5 k x^2 = 0.5 m\\omega^2 x^2$ with a $\\widetilde{\\nu}$ of 100 cm$^{-1}$"
   ]
  },
  {
   "cell_type": "code",
   "execution_count": 4,
   "metadata": {},
   "outputs": [
    {
     "data": {
      "image/png": "[encoded data removed]",
      "text/plain": [
       "<matplotlib.figure.Figure at 0x117893e48>"
      ]
     },
     "metadata": {},
     "output_type": "display_data"
    },
    {
     "data": {
      "text/plain": [
       "<sympy.plotting.plot.Plot at 0x117881ef0>"
      ]
     },
     "execution_count": 4,
     "metadata": {},
     "output_type": "execute_result"
    }
   ],
   "source": [
    "x=Symbol('x')\n",
    "mass=1\n",
    "sho = 0.5*mass*(2*np.pi*c*100)**2*x**2 /conv # conv does a conversion to wavenumbers\n",
    "plot(sho,xlim=[-3,3],ylim=[0,2000])"
   ]
  },
  {
   "cell_type": "markdown",
   "metadata": {},
   "source": [
    "When solving a problem numerically, one generally has to make compromises.  In other words, one typically has to choose between picking an approach that simplifies one part of the problem at the expense of another.  \n",
    "\n",
    "The method that we are using today is a discrete variable representation (DVR), in particular a sinc-DVR.  This approach uses evenly spaced delta functions as basis functions to represent our wavefunctions.  The choice means that our potential energy is very simple to express, while our kinetic energy is more complicated.\n",
    "\n",
    "Let's look at the kinetic energy matrix for a small DVR basis, consisting of 6 functions.  The function return_KE() defines this matrix and takes the number of DVR points and the spacing between them as an input."
   ]
  },
  {
   "cell_type": "code",
   "execution_count": 5,
   "metadata": {},
   "outputs": [
    {
     "data": {
      "text/html": [
       "<div>\n",
       "<style scoped>\n",
       "    .dataframe tbody tr th:only-of-type {\n",
       "        vertical-align: middle;\n",
       "    }\n",
       "\n",
       "    .dataframe tbody tr th {\n",
       "        vertical-align: top;\n",
       "    }\n",
       "\n",
       "    .dataframe thead th {\n",
       "        text-align: right;\n",
       "    }\n",
       "</style>\n",
       "<table border=\"1\" class=\"dataframe\">\n",
       "  <thead>\n",
       "    <tr style=\"text-align: right;\">\n",
       "      <th></th>\n",
       "      <th>0</th>\n",
       "      <th>1</th>\n",
       "      <th>2</th>\n",
       "      <th>3</th>\n",
       "      <th>4</th>\n",
       "      <th>5</th>\n",
       "    </tr>\n",
       "  </thead>\n",
       "  <tbody>\n",
       "    <tr>\n",
       "      <th>0</th>\n",
       "      <td>55.458700</td>\n",
       "      <td>-33.714846</td>\n",
       "      <td>8.428712</td>\n",
       "      <td>-3.746094</td>\n",
       "      <td>2.107178</td>\n",
       "      <td>-1.348594</td>\n",
       "    </tr>\n",
       "    <tr>\n",
       "      <th>1</th>\n",
       "      <td>-33.714846</td>\n",
       "      <td>55.458700</td>\n",
       "      <td>-33.714846</td>\n",
       "      <td>8.428712</td>\n",
       "      <td>-3.746094</td>\n",
       "      <td>2.107178</td>\n",
       "    </tr>\n",
       "    <tr>\n",
       "      <th>2</th>\n",
       "      <td>8.428712</td>\n",
       "      <td>-33.714846</td>\n",
       "      <td>55.458700</td>\n",
       "      <td>-33.714846</td>\n",
       "      <td>8.428712</td>\n",
       "      <td>-3.746094</td>\n",
       "    </tr>\n",
       "    <tr>\n",
       "      <th>3</th>\n",
       "      <td>-3.746094</td>\n",
       "      <td>8.428712</td>\n",
       "      <td>-33.714846</td>\n",
       "      <td>55.458700</td>\n",
       "      <td>-33.714846</td>\n",
       "      <td>8.428712</td>\n",
       "    </tr>\n",
       "    <tr>\n",
       "      <th>4</th>\n",
       "      <td>2.107178</td>\n",
       "      <td>-3.746094</td>\n",
       "      <td>8.428712</td>\n",
       "      <td>-33.714846</td>\n",
       "      <td>55.458700</td>\n",
       "      <td>-33.714846</td>\n",
       "    </tr>\n",
       "    <tr>\n",
       "      <th>5</th>\n",
       "      <td>-1.348594</td>\n",
       "      <td>2.107178</td>\n",
       "      <td>-3.746094</td>\n",
       "      <td>8.428712</td>\n",
       "      <td>-33.714846</td>\n",
       "      <td>55.458700</td>\n",
       "    </tr>\n",
       "  </tbody>\n",
       "</table>\n",
       "</div>"
      ],
      "text/plain": [
       "           0          1          2          3          4          5\n",
       "0  55.458700 -33.714846   8.428712  -3.746094   2.107178  -1.348594\n",
       "1 -33.714846  55.458700 -33.714846   8.428712  -3.746094   2.107178\n",
       "2   8.428712 -33.714846  55.458700 -33.714846   8.428712  -3.746094\n",
       "3  -3.746094   8.428712 -33.714846  55.458700 -33.714846   8.428712\n",
       "4   2.107178  -3.746094   8.428712 -33.714846  55.458700 -33.714846\n",
       "5  -1.348594   2.107178  -3.746094   8.428712 -33.714846  55.458700"
      ]
     },
     "execution_count": 5,
     "metadata": {},
     "output_type": "execute_result"
    }
   ],
   "source": [
    "num=6\n",
    "xvals,dx=np.linspace(-2.5,2.5,num=num,retstep=True) # use same dx that we will below\n",
    "KE=return_KE(num,dx)\n",
    "pd.DataFrame(KE) # pandas provides an easy way to look at the data"
   ]
  },
  {
   "cell_type": "markdown",
   "metadata": {},
   "source": [
    "You can see that the diagonal entries are idential, while the off-diagonal values alternate between positive and negative and decrease with the distance between the delta functions - recall that the basis consists of evenly spaced delta functions so function 0 and 5 are as far apart as possible.  \n",
    "\n",
    "The smaller the magnitude of the off-diagonal element, the less coupling there is between these basis functions.\n",
    "\n",
    "Our choice of the sinc-DVR makes the potential energy simple.  We just evaluate the potential at each DVR point, and add that value to the diagonal element of the kinetic energy to form our Hamiltonian.  Let's look at the Hamiltonian for this system, placing our DVR points from -2.5 to 2.5 Ang.  The function return_H() defines the Hamiltonian and takes the xmin,xmax, a sympy expression of x for the potential, and several optional arguments, such as the number of DVR points"
   ]
  },
  {
   "cell_type": "code",
   "execution_count": 6,
   "metadata": {},
   "outputs": [
    {
     "data": {
      "text/html": [
       "<div>\n",
       "<style scoped>\n",
       "    .dataframe tbody tr th:only-of-type {\n",
       "        vertical-align: middle;\n",
       "    }\n",
       "\n",
       "    .dataframe tbody tr th {\n",
       "        vertical-align: top;\n",
       "    }\n",
       "\n",
       "    .dataframe thead th {\n",
       "        text-align: right;\n",
       "    }\n",
       "</style>\n",
       "<table border=\"1\" class=\"dataframe\">\n",
       "  <thead>\n",
       "    <tr style=\"text-align: right;\">\n",
       "      <th></th>\n",
       "      <th>0</th>\n",
       "      <th>1</th>\n",
       "      <th>2</th>\n",
       "      <th>3</th>\n",
       "      <th>4</th>\n",
       "      <th>5</th>\n",
       "    </tr>\n",
       "  </thead>\n",
       "  <tbody>\n",
       "    <tr>\n",
       "      <th>0</th>\n",
       "      <td>982.350062</td>\n",
       "      <td>-33.714846</td>\n",
       "      <td>8.428712</td>\n",
       "      <td>-3.746094</td>\n",
       "      <td>2.107178</td>\n",
       "      <td>-1.348594</td>\n",
       "    </tr>\n",
       "    <tr>\n",
       "      <th>1</th>\n",
       "      <td>-33.714846</td>\n",
       "      <td>389.139590</td>\n",
       "      <td>-33.714846</td>\n",
       "      <td>8.428712</td>\n",
       "      <td>-3.746094</td>\n",
       "      <td>2.107178</td>\n",
       "    </tr>\n",
       "    <tr>\n",
       "      <th>2</th>\n",
       "      <td>8.428712</td>\n",
       "      <td>-33.714846</td>\n",
       "      <td>92.534354</td>\n",
       "      <td>-33.714846</td>\n",
       "      <td>8.428712</td>\n",
       "      <td>-3.746094</td>\n",
       "    </tr>\n",
       "    <tr>\n",
       "      <th>3</th>\n",
       "      <td>-3.746094</td>\n",
       "      <td>8.428712</td>\n",
       "      <td>-33.714846</td>\n",
       "      <td>92.534354</td>\n",
       "      <td>-33.714846</td>\n",
       "      <td>8.428712</td>\n",
       "    </tr>\n",
       "    <tr>\n",
       "      <th>4</th>\n",
       "      <td>2.107178</td>\n",
       "      <td>-3.746094</td>\n",
       "      <td>8.428712</td>\n",
       "      <td>-33.714846</td>\n",
       "      <td>389.139590</td>\n",
       "      <td>-33.714846</td>\n",
       "    </tr>\n",
       "    <tr>\n",
       "      <th>5</th>\n",
       "      <td>-1.348594</td>\n",
       "      <td>2.107178</td>\n",
       "      <td>-3.746094</td>\n",
       "      <td>8.428712</td>\n",
       "      <td>-33.714846</td>\n",
       "      <td>982.350062</td>\n",
       "    </tr>\n",
       "  </tbody>\n",
       "</table>\n",
       "</div>"
      ],
      "text/plain": [
       "            0           1          2          3           4           5\n",
       "0  982.350062  -33.714846   8.428712  -3.746094    2.107178   -1.348594\n",
       "1  -33.714846  389.139590 -33.714846   8.428712   -3.746094    2.107178\n",
       "2    8.428712  -33.714846  92.534354 -33.714846    8.428712   -3.746094\n",
       "3   -3.746094    8.428712 -33.714846  92.534354  -33.714846    8.428712\n",
       "4    2.107178   -3.746094   8.428712 -33.714846  389.139590  -33.714846\n",
       "5   -1.348594    2.107178  -3.746094   8.428712  -33.714846  982.350062"
      ]
     },
     "execution_count": 6,
     "metadata": {},
     "output_type": "execute_result"
    }
   ],
   "source": [
    "num=6\n",
    "H,xvals = return_H(-2.5,2.5,sho,num=num)\n",
    "pd.DataFrame(H)"
   ]
  },
  {
   "cell_type": "markdown",
   "metadata": {},
   "source": [
    "Now that we have looked at the form of the Hamiltonian, let's obtain the eigenvalues and eigenvectors.  We will start with the same number of DVR points.  This will not produce a very good result, so we will need to eventually increase the number of basis functions."
   ]
  },
  {
   "cell_type": "code",
   "execution_count": 10,
   "metadata": {},
   "outputs": [
    {
     "name": "stdout",
     "output_type": "stream",
     "text": [
      "Ev             Ev - Ev-1\n",
      "50.00730289303438\n",
      "149.83669701019068 99.8293941171563\n",
      "251.18280393698547 101.34610692679479\n",
      "342.5560761991697 91.37327226218423\n"
     ]
    },
    {
     "data": {
      "image/png": "[encoded data removed]",
      "text/plain": [
       "<matplotlib.figure.Figure at 0x1217861d0>"
      ]
     },
     "metadata": {},
     "output_type": "display_data"
    },
    {
     "data": {
      "image/png": "[encoded data removed]",
      "text/plain": [
       "<matplotlib.figure.Figure at 0x121b57f60>"
      ]
     },
     "metadata": {},
     "output_type": "display_data"
    },
    {
     "data": {
      "image/png": "[encoded data removed]",
      "text/plain": [
       "<matplotlib.figure.Figure at 0x121c076d8>"
      ]
     },
     "metadata": {},
     "output_type": "display_data"
    }
   ],
   "source": [
    "num=10\n",
    "H,xvals = return_H(-2.5,2.5,sho,num=num)\n",
    "w,v = np.linalg.eigh(H)\n",
    "\n",
    "print(\"Ev             Ev - Ev-1\")\n",
    "for i in range(4):\n",
    "    if (i == 0):\n",
    "        print (w[i])\n",
    "    else:\n",
    "        print(w[i],w[i]-w[i-1])\n",
    "\n",
    "for i in range(3):\n",
    "    plt.plot(xvals,v[:,i])\n",
    "    plt.show()\n",
    "\n"
   ]
  },
  {
   "cell_type": "markdown",
   "metadata": {},
   "source": [
    "Re-run the above cell several times with an even number of DVR points that are increasing to see how the eigenvalues change as well as what the eigenfunctions look like.\n",
    "\n",
    "We can actually use this to demonstrate how the variational method works.  By increasing the number of basis functions, we are moving towards a converged answer."
   ]
  },
  {
   "cell_type": "code",
   "execution_count": 11,
   "metadata": {},
   "outputs": [
    {
     "data": {
      "image/png": "[encoded data removed]",
      "text/plain": [
       "<matplotlib.figure.Figure at 0x121cc7080>"
      ]
     },
     "metadata": {},
     "output_type": "display_data"
    },
    {
     "data": {
      "image/png": "[encoded data removed]",
      "text/plain": [
       "<matplotlib.figure.Figure at 0x121cc7160>"
      ]
     },
     "metadata": {},
     "output_type": "display_data"
    },
    {
     "data": {
      "image/png": "[encoded data removed]",
      "text/plain": [
       "<matplotlib.figure.Figure at 0x121e49320>"
      ]
     },
     "metadata": {},
     "output_type": "display_data"
    }
   ],
   "source": [
    "nums=[6,8,10,12,14,16,20]\n",
    "eigs=[]\n",
    "for num in nums:\n",
    "    H,xvals = return_H(-2.5,2.5,sho,num=num)\n",
    "    w,v = np.linalg.eigh(H)\n",
    "    eigs.append(w[0])\n",
    "\n",
    "plt.plot(nums,eigs)\n",
    "plt.ylabel('Energy')\n",
    "plt.show()\n",
    "plt.plot(nums,(eigs-eigs[-1])/eigs[-1]*100)\n",
    "plt.ylabel('Percent Error')\n",
    "plt.xlabel('# Basis Functions')\n",
    "plt.show()\n",
    "plt.plot(nums[2:-1],(eigs[2:-1]-eigs[-1])/eigs[-1]*100)\n",
    "plt.ylabel('Percent Error')\n",
    "plt.xlabel('# Basis Functions')\n",
    "plt.show()"
   ]
  },
  {
   "cell_type": "markdown",
   "metadata": {},
   "source": [
    "# Morse Potential\n",
    "\n",
    "Now we will explore the Morse potential.  This function is defined as $V(x)=D_e\\left(\\exp(-2\\alpha x)-2\\exp(-\\alpha x)\\right ) +D_e$.  Today we will use parameters of $D_e=35731.2$ cm$^{-1}$ and $\\alpha=1.9519$ Ang., which corresponds to the HCl molecule.  Define a function called Morse as a sympy expression.  \n",
    "\n",
    "Plot this function to get an idea of the shape and location for the potential with limits of x = -0.5 to 3, with a ylim=[0,40000]."
   ]
  },
  {
   "cell_type": "code",
   "execution_count": 14,
   "metadata": {},
   "outputs": [
    {
     "data": {
      "image/png": "[encoded data removed]",
      "text/plain": [
       "<matplotlib.figure.Figure at 0x121f014e0>"
      ]
     },
     "metadata": {},
     "output_type": "display_data"
    },
    {
     "data": {
      "text/plain": [
       "<sympy.plotting.plot.Plot at 0x121f010b8>"
      ]
     },
     "execution_count": 14,
     "metadata": {},
     "output_type": "execute_result"
    }
   ],
   "source": [
    "x=Symbol('x')\n",
    "De = 35731.2\n",
    "alpha = 1.9519\n",
    "mass=1\n",
    "morse = De*(exp(-2*alpha*x) - 2*exp(-alpha*x))+De   # conv does a conversion to wavenumbers\n",
    "plot(morse,xlim=[-0.5,3],ylim=[0,40000])"
   ]
  },
  {
   "cell_type": "markdown",
   "metadata": {},
   "source": [
    "Define another SHO function with equation $0.5 k x^2$ where k is the second deriviative of your Morse function evaluated at x=0.  Plot both this function and the Morse potential to determine the appropriate DVR range to solve for the first several energy levels.  Note that you will want a smaller x range than in the above plot."
   ]
  },
  {
   "cell_type": "code",
   "execution_count": 28,
   "metadata": {},
   "outputs": [
    {
     "name": "stdout",
     "output_type": "stream",
     "text": [
      "272265.570363264\n"
     ]
    },
    {
     "data": {
      "image/png": "[encoded data removed]",
      "text/plain": [
       "<matplotlib.figure.Figure at 0x121acba58>"
      ]
     },
     "metadata": {},
     "output_type": "display_data"
    }
   ],
   "source": [
    "k = (diff(morse, x, x)).subs({x:0})\n",
    "print(k)\n",
    "\n",
    "SHO = 0.5*k*x**2\n",
    "\n",
    "p1 = plot(morse,xlim=[-0.5,3],ylim=[0,40000],show=False)\n",
    "p2 = plot(SHO,xlim=[-0.5,3],ylim=[0,40000],show=False)\n",
    "p1.append(p2[0])\n",
    "p1.show()\n"
   ]
  },
  {
   "cell_type": "markdown",
   "metadata": {},
   "source": [
    "Now that you have the range identified, find the eigenvalues and eigenvectors of both the morse potential and the harmonic approximation.  Compare the ground state energy of each as well as the transition energy for v = 0 to v = 1.  Use a large number of DVR points, such as 100.  Call return_H using the optional argument of mass=35/36. to account for the reduced mass of HCl."
   ]
  },
  {
   "cell_type": "code",
   "execution_count": 29,
   "metadata": {},
   "outputs": [
    {
     "data": {
      "text/html": [
       "<div>\n",
       "<style scoped>\n",
       "    .dataframe tbody tr th:only-of-type {\n",
       "        vertical-align: middle;\n",
       "    }\n",
       "\n",
       "    .dataframe tbody tr th {\n",
       "        vertical-align: top;\n",
       "    }\n",
       "\n",
       "    .dataframe thead th {\n",
       "        text-align: right;\n",
       "    }\n",
       "</style>\n",
       "<table border=\"1\" class=\"dataframe\">\n",
       "  <thead>\n",
       "    <tr style=\"text-align: right;\">\n",
       "      <th></th>\n",
       "      <th>0</th>\n",
       "      <th>1</th>\n",
       "      <th>2</th>\n",
       "      <th>3</th>\n",
       "      <th>4</th>\n",
       "      <th>5</th>\n",
       "    </tr>\n",
       "  </thead>\n",
       "  <tbody>\n",
       "    <tr>\n",
       "      <th>0</th>\n",
       "      <td>55.458700</td>\n",
       "      <td>-33.714846</td>\n",
       "      <td>8.428712</td>\n",
       "      <td>-3.746094</td>\n",
       "      <td>2.107178</td>\n",
       "      <td>-1.348594</td>\n",
       "    </tr>\n",
       "    <tr>\n",
       "      <th>1</th>\n",
       "      <td>-33.714846</td>\n",
       "      <td>55.458700</td>\n",
       "      <td>-33.714846</td>\n",
       "      <td>8.428712</td>\n",
       "      <td>-3.746094</td>\n",
       "      <td>2.107178</td>\n",
       "    </tr>\n",
       "    <tr>\n",
       "      <th>2</th>\n",
       "      <td>8.428712</td>\n",
       "      <td>-33.714846</td>\n",
       "      <td>55.458700</td>\n",
       "      <td>-33.714846</td>\n",
       "      <td>8.428712</td>\n",
       "      <td>-3.746094</td>\n",
       "    </tr>\n",
       "    <tr>\n",
       "      <th>3</th>\n",
       "      <td>-3.746094</td>\n",
       "      <td>8.428712</td>\n",
       "      <td>-33.714846</td>\n",
       "      <td>55.458700</td>\n",
       "      <td>-33.714846</td>\n",
       "      <td>8.428712</td>\n",
       "    </tr>\n",
       "    <tr>\n",
       "      <th>4</th>\n",
       "      <td>2.107178</td>\n",
       "      <td>-3.746094</td>\n",
       "      <td>8.428712</td>\n",
       "      <td>-33.714846</td>\n",
       "      <td>55.458700</td>\n",
       "      <td>-33.714846</td>\n",
       "    </tr>\n",
       "    <tr>\n",
       "      <th>5</th>\n",
       "      <td>-1.348594</td>\n",
       "      <td>2.107178</td>\n",
       "      <td>-3.746094</td>\n",
       "      <td>8.428712</td>\n",
       "      <td>-33.714846</td>\n",
       "      <td>55.458700</td>\n",
       "    </tr>\n",
       "  </tbody>\n",
       "</table>\n",
       "</div>"
      ],
      "text/plain": [
       "           0          1          2          3          4          5\n",
       "0  55.458700 -33.714846   8.428712  -3.746094   2.107178  -1.348594\n",
       "1 -33.714846  55.458700 -33.714846   8.428712  -3.746094   2.107178\n",
       "2   8.428712 -33.714846  55.458700 -33.714846   8.428712  -3.746094\n",
       "3  -3.746094   8.428712 -33.714846  55.458700 -33.714846   8.428712\n",
       "4   2.107178  -3.746094   8.428712 -33.714846  55.458700 -33.714846\n",
       "5  -1.348594   2.107178  -3.746094   8.428712 -33.714846  55.458700"
      ]
     },
     "execution_count": 29,
     "metadata": {},
     "output_type": "execute_result"
    }
   ],
   "source": [
    "num=6\n",
    "xvals,dx=np.linspace(-2.5,2.5,num=num,retstep=True) # use same dx that we will below\n",
    "KE=return_KE(num,dx)\n",
    "pd.DataFrame(KE) # pandas provides an easy way to look at the data"
   ]
  },
  {
   "cell_type": "markdown",
   "metadata": {},
   "source": [
    "Now compare the wavefunctions for the first 4 eigenfunctions.  Include a statement such as color='red' in your plot command so that you can tell the difference between the two functions.\n",
    "\n",
    "<b>Note:</b> The phase of the wavefunction is random and it it may be necessary to plot the negative of the eigenfunction for either the SHO or Morse system to make an easy comparison."
   ]
  },
  {
   "cell_type": "code",
   "execution_count": 12,
   "metadata": {},
   "outputs": [],
   "source": [
    "#Ans Cell\n"
   ]
  },
  {
   "cell_type": "markdown",
   "metadata": {
    "collapsed": true
   },
   "source": [
    "# Double Well Potential\n",
    "\n",
    "Now let's examine a double well potential. Define a potential energy function $V(x)=\\alpha x^4 - \\beta x^2 + \\frac{\\beta^2}{4\\alpha}$ with $\\alpha=533.33$ and $\\beta=2400$.  Plot this function, with Ylim=[0,10000]."
   ]
  },
  {
   "cell_type": "code",
   "execution_count": 13,
   "metadata": {},
   "outputs": [],
   "source": [
    "#Ans Cell\n"
   ]
  },
  {
   "cell_type": "markdown",
   "metadata": {},
   "source": [
    "Use the plot to determine the DVR range and find the eigenvalues and eigenfunctions. \n",
    "\n",
    "Examine the first two energy levels and wavefunctions and discuss what you see.  Again, use a large number of DVR points, such as num=100."
   ]
  },
  {
   "cell_type": "code",
   "execution_count": 14,
   "metadata": {},
   "outputs": [],
   "source": [
    "# Ans Cell\n"
   ]
  },
  {
   "cell_type": "markdown",
   "metadata": {},
   "source": [
    "Examine the second two energy levels.  What do you expect the wavefunctions to look like?"
   ]
  },
  {
   "cell_type": "code",
   "execution_count": 15,
   "metadata": {},
   "outputs": [],
   "source": [
    "#Ans Cell\n"
   ]
  }
 ],
 "metadata": {
  "kernelspec": {
   "display_name": "Python 3",
   "language": "python",
   "name": "python3"
  },
  "language_info": {
   "codemirror_mode": {
    "name": "ipython",
    "version": 3
   },
   "file_extension": ".py",
   "mimetype": "text/x-python",
   "name": "python",
   "nbconvert_exporter": "python",
   "pygments_lexer": "ipython3",
   "version": "3.6.4"
  }
 },
 "nbformat": 4,
 "nbformat_minor": 2
}
