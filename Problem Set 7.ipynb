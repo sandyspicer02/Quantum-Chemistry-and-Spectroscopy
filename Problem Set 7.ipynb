{
 "cells": [
  {
   "cell_type": "markdown",
   "metadata": {},
   "source": [
    "# Problem Set 7"
   ]
  },
  {
   "cell_type": "code",
   "execution_count": 1,
   "metadata": {},
   "outputs": [],
   "source": [
    "from sympy import *\n",
    "import matplotlib.pyplot as plt\n",
    "import numpy as np\n",
    "from IPython.display import display\n",
    "init_printing()\n",
    "%matplotlib inline"
   ]
  },
  {
   "cell_type": "markdown",
   "metadata": {},
   "source": [
    "### Problem 10"
   ]
  },
  {
   "cell_type": "code",
   "execution_count": 2,
   "metadata": {},
   "outputs": [],
   "source": [
    "c = Symbol('c')\n",
    "h = Symbol('h')\n",
    "B = Symbol('B')\n",
    "k = Symbol('k')\n",
    "T = Symbol('T')\n",
    "J = Symbol('J')"
   ]
  },
  {
   "cell_type": "code",
   "execution_count": 5,
   "metadata": {},
   "outputs": [
    {
     "data": {
      "image/png": "[encoded data removed]",
      "text/latex": [
       "$$c \\left(2 J + 1\\right) e^{- \\frac{B J c h}{T k} \\left(J + 1\\right)}$$"
      ],
      "text/plain": [
       "             -B⋅J⋅c⋅h⋅(J + 1) \n",
       "             ─────────────────\n",
       "                    T⋅k       \n",
       "c⋅(2⋅J + 1)⋅ℯ                 "
      ]
     },
     "execution_count": 5,
     "metadata": {},
     "output_type": "execute_result"
    }
   ],
   "source": [
    "Nj = c*(2*J+1) * E**-((h*c*B*J*(J+1))/(k*T))\n",
    "Nj"
   ]
  },
  {
   "cell_type": "code",
   "execution_count": 8,
   "metadata": {},
   "outputs": [
    {
     "data": {
      "image/png": "[encoded data removed]",
      "text/latex": [
       "$$c \\left(2 J + 1\\right) \\left(- \\frac{B J c h}{T k} - \\frac{B c h}{T k} \\left(J + 1\\right)\\right) e^{- \\frac{B J c h}{T k} \\left(J + 1\\right)} + 2 c e^{- \\frac{B J c h}{T k} \\left(J + 1\\right)}$$"
      ],
      "text/plain": [
       "                                         -B⋅J⋅c⋅h⋅(J + 1)         -B⋅J⋅c⋅h⋅(J \n",
       "                                         ─────────────────        ────────────\n",
       "            ⎛  B⋅J⋅c⋅h   B⋅c⋅h⋅(J + 1)⎞         T⋅k                      T⋅k  \n",
       "c⋅(2⋅J + 1)⋅⎜- ─────── - ─────────────⎟⋅ℯ                  + 2⋅c⋅ℯ            \n",
       "            ⎝    T⋅k          T⋅k     ⎠                                       \n",
       "\n",
       "+ 1) \n",
       "─────\n",
       "     \n",
       "     \n",
       "     "
      ]
     },
     "execution_count": 8,
     "metadata": {},
     "output_type": "execute_result"
    }
   ],
   "source": [
    "derivative = diff(Nj,J)\n",
    "derivative"
   ]
  },
  {
   "cell_type": "code",
   "execution_count": 11,
   "metadata": {},
   "outputs": [
    {
     "data": {
      "image/png": "[encoded data removed]",
      "text/latex": [
       "$$\\left [ - \\frac{1}{2} - \\frac{\\sqrt{2} \\sqrt{B T c h k}}{2 B c h}, \\quad - \\frac{1}{2} + \\frac{\\sqrt{2} \\sqrt{B T c h k}}{2 B c h}\\right ]$$"
      ],
      "text/plain": [
       "⎡           ___________             ___________⎤\n",
       "⎢  1   √2⋅╲╱ B⋅T⋅c⋅h⋅k     1   √2⋅╲╱ B⋅T⋅c⋅h⋅k ⎥\n",
       "⎢- ─ - ────────────────, - ─ + ────────────────⎥\n",
       "⎣  2       2⋅B⋅c⋅h         2       2⋅B⋅c⋅h     ⎦"
      ]
     },
     "execution_count": 11,
     "metadata": {},
     "output_type": "execute_result"
    }
   ],
   "source": [
    "x = solve(derivative,J)\n",
    "x"
   ]
  }
 ],
 "metadata": {
  "kernelspec": {
   "display_name": "Python 3",
   "language": "python",
   "name": "python3"
  },
  "language_info": {
   "codemirror_mode": {
    "name": "ipython",
    "version": 3
   },
   "file_extension": ".py",
   "mimetype": "text/x-python",
   "name": "python",
   "nbconvert_exporter": "python",
   "pygments_lexer": "ipython3",
   "version": "3.6.4"
  }
 },
 "nbformat": 4,
 "nbformat_minor": 2
}
