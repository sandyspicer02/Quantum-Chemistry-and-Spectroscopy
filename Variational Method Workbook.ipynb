{
 "cells": [
  {
   "cell_type": "markdown",
   "metadata": {},
   "source": [
    "# Exploring the Variational Method\n",
    "Today we are going to explore the Variational method using the particle in a box (PIB) system.  This worksheet was inspired by a similar worksheet written by W. Tandy Grubbs, Department of Chemistry, Unit 8271, Stetson University.\n",
    "\n",
    "In order to focus on the variational method, rather than units, we will work in reduced units where most physical constants are equal to 1.  This is a common approach that is useful when investigating model problems.  To begin we will define the exact solutions to the PIB as $$ \\psi_k(x)=\\sqrt{2}\\sin ( k\\pi x) \\\\ E_k = \\frac{k^2 \\pi^2}{2} $$\n",
    "\n",
    "Note that the energy expression is different than in class because we have defined hbar=1 (as well as m=1 and L=1).  I am using k as a quantum number rather than n because sympy uses N as a function."
   ]
  },
  {
   "cell_type": "code",
   "execution_count": 1,
   "metadata": {
    "collapsed": true
   },
   "outputs": [],
   "source": [
    "# Make sure to run this cell\n",
    "from sympy import *\n",
    "import matplotlib.pyplot as plt\n",
    "init_printing()\n",
    "\n",
    "k1 = Symbol('k1')\n",
    "x = Symbol('x')\n",
    "def psi_exact(k): # define function to return the exact wavefunctions\n",
    "    return (sqrt(2)*sin(k1*pi*x)).subs({k1:k})\n",
    "# Define the energy of the first several states\n",
    "E1=N(pi**2/2)\n",
    "E2=N(4*pi**2/2)\n",
    "E3=N(9*pi**2/2)"
   ]
  },
  {
   "cell_type": "code",
   "execution_count": null,
   "metadata": {
    "collapsed": false
   },
   "outputs": [],
   "source": [
    "# plot the functions\n",
    "p = plot(psi_exact(1),psi_exact(2),psi_exact(3),(x,0,1),show=False)\n",
    "p[0].line_color='red'\n",
    "p[1].line_color='blue'\n",
    "p[2].line_color='green'\n",
    "p.show()"
   ]
  },
  {
   "cell_type": "code",
   "execution_count": null,
   "metadata": {
    "collapsed": false
   },
   "outputs": [],
   "source": [
    "print (\"The first several energy levels are:\\n\",E1,E2,E3)"
   ]
  },
  {
   "cell_type": "markdown",
   "metadata": {},
   "source": [
    "In order to test the variational principle, we need to create a test function that obeys the boundary conditions of the system.  We will initially work with $$\\psi(x)=Mx(L-x)$$ where $M$ is a normalization constant.  We will prove that the energy given by $$ E = \\frac{ \\int \\psi^* \\widehat{H} \\psi d \\tau}{\\int \\psi^* \\psi d \\tau }$$ is greater than the exact ground state energy.\n",
    "\n",
    "First, make a plot that compares the test function to the exact function. (Note, you will need to normalize the test function to compare it.)  Comment on your findings."
   ]
  },
  {
   "cell_type": "code",
   "execution_count": 3,
   "metadata": {
    "collapsed": false
   },
   "outputs": [
    {
     "data": {
      "image/png": "[encoded data removed]",
      "text/latex": [
       "$$\\sqrt{30} x \\left(- x + 1\\right)$$"
      ],
      "text/plain": [
       "√30⋅x⋅(-x + 1)"
      ]
     },
     "execution_count": 3,
     "metadata": {},
     "output_type": "execute_result"
    }
   ],
   "source": [
    "# Use this cell to define and normalize your trial function\n",
    "M=Symbol('M',positive=True,real=True)\n",
    "f = x*(1-x)\n",
    "M = 1 /sqrt ( integrate(f**2,(x,0,1)))\n",
    "f = M*f\n",
    "f"
   ]
  },
  {
   "cell_type": "code",
   "execution_count": 5,
   "metadata": {
    "collapsed": true
   },
   "outputs": [],
   "source": [
    "# Use this cell to make your plot\n",
    "p = plot(psi_exact(1),f,(x,0,1),show=False)\n",
    "p[0].line_color='red'\n",
    "p[1].line_color='blue'\n",
    "p.show()"
   ]
  },
  {
   "cell_type": "markdown",
   "metadata": {},
   "source": [
    "Now find the energy of the test function and compare it to the exact value.  Does it obey the variational principle\u001b?"
   ]
  },
  {
   "cell_type": "code",
   "execution_count": 6,
   "metadata": {
    "collapsed": false
   },
   "outputs": [
    {
     "data": {
      "image/png": "[encoded data removed]",
      "text/latex": [
       "$$5.0$$"
      ],
      "text/plain": [
       "5.00000000000000"
      ]
     },
     "execution_count": 6,
     "metadata": {},
     "output_type": "execute_result"
    }
   ],
   "source": [
    "# Use this cell to find the energy of your trial function\n",
    "\n",
    "E = integrate(f*(-.5*diff(f,x,2)),(x,0,1)) / integrate(f**2,(x,0,1))\n",
    "E"
   ]
  },
  {
   "cell_type": "markdown",
   "metadata": {},
   "source": [
    "<font color='red'>Answer:</font> <b>(Put your answer here)</b>"
   ]
  },
  {
   "cell_type": "markdown",
   "metadata": {},
   "source": [
    "Now let's consider the variational aspect.  Namely, let's define a test function that has a parameter that can be varied and see if we can get a better energy.  For our test function, we will use $$ f(x) = x(L-x)+Cx^2(L-x)^2 $$ where C is an adjustable parameter.  First, we must obtain an expression for the energy of the test function in terms of the parameter C."
   ]
  },
  {
   "cell_type": "code",
   "execution_count": 7,
   "metadata": {
    "collapsed": false
   },
   "outputs": [
    {
     "data": {
      "image/png": "[encoded data removed]",
      "text/latex": [
       "$$\\frac{6 C^{2} + 42 C + 105}{C^{2} + 9 C + 21}$$"
      ],
      "text/plain": [
       "  ⎛   2            ⎞\n",
       "3⋅⎝2⋅C  + 14⋅C + 35⎠\n",
       "────────────────────\n",
       "    2               \n",
       "   C  + 9⋅C + 21    "
      ]
     },
     "execution_count": 7,
     "metadata": {},
     "output_type": "execute_result"
    }
   ],
   "source": [
    "C = Symbol('C',real=True)\n",
    "f = x*(1-x)+C*x**2*(1-x)**2\n",
    "Etest = simplify ( integrate(-f*diff(f,x,2)/2,(x,0,1))/integrate(f*f,(x,0,1)) )\n",
    "Etest"
   ]
  },
  {
   "cell_type": "markdown",
   "metadata": {},
   "source": [
    "With this in hand, we want to minimize the energy, i.e. set $$ \\frac{ d E(C)}{d C} = 0$$"
   ]
  },
  {
   "cell_type": "code",
   "execution_count": 8,
   "metadata": {
    "collapsed": false
   },
   "outputs": [
    {
     "data": {
      "image/png": "[encoded data removed]",
      "text/latex": [
       "$$\\left [ - \\frac{7}{4} + \\frac{\\sqrt{133}}{4}, \\quad - \\frac{\\sqrt{133}}{4} - \\frac{7}{4}\\right ]$$"
      ],
      "text/plain": [
       "⎡  7   √133    √133   7⎤\n",
       "⎢- ─ + ────, - ──── - ─⎥\n",
       "⎣  4    4       4     4⎦"
      ]
     },
     "execution_count": 8,
     "metadata": {},
     "output_type": "execute_result"
    }
   ],
   "source": [
    "roots=solve(diff(Etest,C),C) # Assumes expression in parentheses equals 0\n",
    "solve(diff(Etest,C),C)"
   ]
  },
  {
   "cell_type": "markdown",
   "metadata": {},
   "source": [
    "Need to test both roots to see which is a minima."
   ]
  },
  {
   "cell_type": "code",
   "execution_count": 9,
   "metadata": {
    "collapsed": false
   },
   "outputs": [
    {
     "name": "stdout",
     "output_type": "stream",
     "text": [
      "4.93487481065841\n",
      "51.0651251893416\n"
     ]
    }
   ],
   "source": [
    "for root in roots: # loop over the roots\n",
    "    print(N(Etest.subs({C:root})))"
   ]
  },
  {
   "cell_type": "markdown",
   "metadata": {},
   "source": [
    "We found it!  Now, let's redefine our wavefunction and compare the plot of each."
   ]
  },
  {
   "cell_type": "code",
   "execution_count": 10,
   "metadata": {
    "collapsed": false
   },
   "outputs": [
    {
     "data": {
      "image/png": "[encoded data removed]",
      "text/plain": [
       "<matplotlib.figure.Figure at 0x10ace9240>"
      ]
     },
     "metadata": {},
     "output_type": "display_data"
    }
   ],
   "source": [
    "# Need to normalize\n",
    "f=simplify(f.subs({C:roots[0]}))\n",
    "M=1/sqrt(integrate(f*f,(x,0,1)))\n",
    "f=simplify(M*f)\n",
    "p = plot(psi_exact(1),f,(x,0,1),show=False)\n",
    "p[0].line_color='red'\n",
    "p[1].line_color='blue'\n",
    "p.show()"
   ]
  },
  {
   "cell_type": "markdown",
   "metadata": {},
   "source": [
    "Let's compare the energy!"
   ]
  },
  {
   "cell_type": "code",
   "execution_count": 11,
   "metadata": {
    "collapsed": false
   },
   "outputs": [
    {
     "name": "stdout",
     "output_type": "stream",
     "text": [
      "The energy is:  4.93487481065841 \n",
      "The percent error is:  0.00147138853349777\n"
     ]
    }
   ],
   "source": [
    "Etest = N(Etest.subs({C:roots[0]}))\n",
    "print ('The energy is: ',Etest,'\\nThe percent error is: ', (Etest-E1)/E1*100)"
   ]
  },
  {
   "cell_type": "markdown",
   "metadata": {},
   "source": [
    "<font color='red'>This is very impressive!  It is only 0.00147% higher in energy than the exact solution.</font>\n",
    "\n",
    "Now that you see how this approach works, try to find a variational solution for the first excited state using the following two functions: $$ \\phi_1(x) = x(L-x)(\\frac{L}{2}-x) \\\\ \\phi_2(x)=x^2(L-x)^2(\\frac{L}{2}-x)$$\n",
    "\n",
    "You should again obtain a result that is quite good!  \n",
    "\n",
    "<b>Note:  Make sure to enter \"1/2\" as \"S(1)/2\" otherwise python will plass 0.5 to sympy rather than a rational number.</b>"
   ]
  },
  {
   "cell_type": "code",
   "execution_count": null,
   "metadata": {
    "collapsed": true
   },
   "outputs": [],
   "source": []
  }
 ],
 "metadata": {
  "kernelspec": {
   "display_name": "Python 2",
   "language": "python",
   "name": "python2"
  },
  "language_info": {
   "codemirror_mode": {
    "name": "ipython",
    "version": 2
   },
   "file_extension": ".py",
   "mimetype": "text/x-python",
   "name": "python",
   "nbconvert_exporter": "python",
   "pygments_lexer": "ipython2",
   "version": "2.7.11"
  }
 },
 "nbformat": 4,
 "nbformat_minor": 2
}
